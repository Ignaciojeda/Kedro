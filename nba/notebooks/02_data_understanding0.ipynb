{
  "nbformat": 4,
  "nbformat_minor": 0,
  "metadata": {
    "colab": {
      "provenance": []
    },
    "kernelspec": {
      "name": "python3",
      "display_name": "Python 3"
    },
    "language_info": {
      "name": "python"
    }
  },
  "cells": [
    {
      "cell_type": "markdown",
      "source": [
        "# Cargar extensión de Kedro y librerí"
      ],
      "metadata": {
        "id": "RDKDsY0hBv-3"
      }
    },
    {
      "cell_type": "code",
      "execution_count": null,
      "metadata": {
        "id": "ZTRe_nvkBr2i"
      },
      "outputs": [],
      "source": [
        "%load_ext kedro.ipython\n",
        "import pandas as pd\n",
        "import numpy as np\n",
        "import seaborn as sns\n",
        "import matplotlib.pyplot as plt\n",
        "%matplotlib inline\n",
        "sns.set(color_codes=True, style='whitegrid')\n",
        "plt.rcParams['figure.figsize'] = (12, 6)"
      ]
    },
    {
      "cell_type": "markdown",
      "source": [
        "# Verificar las keys disponibles en el catálogo"
      ],
      "metadata": {
        "id": "Wl5xqez8ByAi"
      }
    },
    {
      "cell_type": "code",
      "source": [
        "print(\"Keys disponibles en el catálogo:\")\n",
        "catalog.keys()"
      ],
      "metadata": {
        "id": "Ilut-p62B2bg"
      },
      "execution_count": null,
      "outputs": []
    },
    {
      "cell_type": "markdown",
      "source": [
        "# --- Cargar datasets ---"
      ],
      "metadata": {
        "id": "RkBaHpvsB0ag"
      }
    },
    {
      "cell_type": "code",
      "source": [
        "games = catalog.load(\"games\")\n",
        "details = catalog.load(\"games_details\")\n",
        "teams = catalog.load(\"teams\")\n",
        "\n",
        "print(f\"Dimensiones de los datasets:\")\n",
        "print(f\"games: {games.shape}\")\n",
        "print(f\"details: {details.shape}\")\n",
        "print(f\"teams: {teams.shape}\")"
      ],
      "metadata": {
        "id": "ZGA-q9a7CBON"
      },
      "execution_count": null,
      "outputs": []
    },
    {
      "cell_type": "markdown",
      "source": [
        "# Análisis del Dataset 'games'"
      ],
      "metadata": {
        "id": "PyTY690LB8nf"
      }
    },
    {
      "cell_type": "markdown",
      "source": [
        "# Este dataset contiene información sobre los partidos de la NBA, incluyendo resultados, estadísticas básicas y metadatos."
      ],
      "metadata": {
        "id": "uWDhRCBLCKL6"
      }
    },
    {
      "cell_type": "markdown",
      "source": [
        "# Primer vistazo a los datos de partidos"
      ],
      "metadata": {
        "id": "zuPbf9Q3CL5w"
      }
    },
    {
      "cell_type": "code",
      "source": [
        "print(\"Primeras 5 filas del dataset 'games':\")\n",
        "display(games.head())"
      ],
      "metadata": {
        "id": "tdmVLSFcCFdB"
      },
      "execution_count": null,
      "outputs": []
    },
    {
      "cell_type": "markdown",
      "source": [
        "# Información del dataset"
      ],
      "metadata": {
        "id": "tvertu31CNy0"
      }
    },
    {
      "cell_type": "code",
      "source": [
        "print(\"Información del dataset 'games':\")\n",
        "games.info()"
      ],
      "metadata": {
        "id": "HQOMEBkNCPAI"
      },
      "execution_count": null,
      "outputs": []
    },
    {
      "cell_type": "markdown",
      "source": [
        "# Estadísticas descriptivas"
      ],
      "metadata": {
        "id": "1EJCVyRdCQHJ"
      }
    },
    {
      "cell_type": "code",
      "source": [
        "print(\"Estadísticas descriptivas de 'games':\")\n",
        "display(games.describe().T)"
      ],
      "metadata": {
        "id": "PTbCpJkvCSBc"
      },
      "execution_count": null,
      "outputs": []
    },
    {
      "cell_type": "markdown",
      "source": [
        "# Últimas filas del dataset"
      ],
      "metadata": {
        "id": "WJz_azU3CTPK"
      }
    },
    {
      "cell_type": "code",
      "source": [
        "print(\"Últimas 5 filas del dataset 'games':\")\n",
        "display(games.tail())"
      ],
      "metadata": {
        "id": "x4K7p2y9CfeO"
      },
      "execution_count": null,
      "outputs": []
    },
    {
      "cell_type": "markdown",
      "source": [
        "# Número de valores únicos por columna"
      ],
      "metadata": {
        "id": "R-WkthRbCg9q"
      }
    },
    {
      "cell_type": "code",
      "source": [
        "print(\"Número de valores únicos por columna en 'games':\")\n",
        "display(games.nunique())"
      ],
      "metadata": {
        "id": "U2hBp0beCiJ3"
      },
      "execution_count": null,
      "outputs": []
    },
    {
      "cell_type": "markdown",
      "source": [
        "# Estadísticas descriptivas completas"
      ],
      "metadata": {
        "id": "oGxL8TptCjGD"
      }
    },
    {
      "cell_type": "code",
      "source": [
        "print(\"Estadísticas descriptivas completas:\")\n",
        "display(games.describe())"
      ],
      "metadata": {
        "id": "wNeTLM9aCkbj"
      },
      "execution_count": null,
      "outputs": []
    },
    {
      "cell_type": "markdown",
      "source": [
        "# Análisis de la variable HOME_TEAM_WINS"
      ],
      "metadata": {
        "id": "bo8gh0aLClmv"
      }
    },
    {
      "cell_type": "code",
      "source": [
        "print(\"Distribución de victorias locales:\")\n",
        "display(games['HOME_TEAM_WINS'].value_counts())"
      ],
      "metadata": {
        "id": "FmGQmDdUCnuP"
      },
      "execution_count": null,
      "outputs": []
    },
    {
      "cell_type": "markdown",
      "source": [
        "# Función para convertir a booleano"
      ],
      "metadata": {
        "id": "PBhyyc8hCo_R"
      }
    },
    {
      "cell_type": "code",
      "source": [
        "def _is_true(x: pd.Series) -> pd.Series:\n",
        "    return x == 1"
      ],
      "metadata": {
        "id": "VV7gNOriCqqn"
      },
      "execution_count": null,
      "outputs": []
    },
    {
      "cell_type": "markdown",
      "source": [
        "# Aplicar la conversión"
      ],
      "metadata": {
        "id": "X3vhtG0JCr4F"
      }
    },
    {
      "cell_type": "code",
      "source": [
        "games['HOME_TEAM_WINS'] = _is_true(games['HOME_TEAM_WINS'])\n",
        "print(\"Variable HOME_TEAM_WINS convertida a booleano:\")\n",
        "display(games['HOME_TEAM_WINS'].value_counts())"
      ],
      "metadata": {
        "id": "dXM8CFjECtRH"
      },
      "execution_count": null,
      "outputs": []
    },
    {
      "cell_type": "markdown",
      "source": [
        "# Análisis de valores missing"
      ],
      "metadata": {
        "id": "-xVygvJNCvCA"
      }
    },
    {
      "cell_type": "code",
      "source": [
        "print(\"Porcentaje de valores missing por columna (ordenado descendente):\")\n",
        "missing_percentage = games.isna().mean().sort_values(ascending=False) * 100\n",
        "display(missing_percentage[missing_percentage > 0])"
      ],
      "metadata": {
        "id": "suPQTu9fCwsC"
      },
      "execution_count": null,
      "outputs": []
    },
    {
      "cell_type": "markdown",
      "source": [
        "## Análisis Temporal de los Partidos"
      ],
      "metadata": {
        "id": "h-2w-fhBCyUw"
      }
    },
    {
      "cell_type": "markdown",
      "source": [
        "# Distribución de partidos por temporada"
      ],
      "metadata": {
        "id": "nxrvT07qC0cs"
      }
    },
    {
      "cell_type": "code",
      "source": [
        "plt.figure(figsize=(14, 6))\n",
        "sns.countplot(x=\"SEASON\", data=games)\n",
        "plt.title(\"Cantidad de juegos por temporada\", fontsize=16, fontweight='bold')\n",
        "plt.xlabel(\"Temporada\")\n",
        "plt.ylabel(\"Número de Partidos\")\n",
        "plt.xticks(rotation=45)\n",
        "plt.tight_layout()\n",
        "plt.show()"
      ],
      "metadata": {
        "id": "BdsHf9TuC2ND"
      },
      "execution_count": null,
      "outputs": []
    },
    {
      "cell_type": "markdown",
      "source": [
        "# Distribución de puntos anotados"
      ],
      "metadata": {
        "id": "W3sIs81UC4H4"
      }
    },
    {
      "cell_type": "code",
      "source": [
        "plt.figure(figsize=(12, 6))\n",
        "sns.histplot(games[\"PTS_home\"], kde=True, label=\"Local\", color=\"blue\", alpha=0.7)\n",
        "sns.histplot(games[\"PTS_away\"], kde=True, label=\"Visitante\", color=\"red\", alpha=0.7)\n",
        "plt.legend()\n",
        "plt.title(\"Distribución de puntos anotados (Local vs Visitante)\", fontsize=16, fontweight='bold')\n",
        "plt.xlabel(\"Puntos Anotados\")\n",
        "plt.ylabel(\"Frecuencia\")\n",
        "plt.show()"
      ],
      "metadata": {
        "id": "jDe2TwrdC5fc"
      },
      "execution_count": null,
      "outputs": []
    },
    {
      "cell_type": "markdown",
      "source": [
        "# Calcular diferencia de puntos"
      ],
      "metadata": {
        "id": "GaLWJWnPC69K"
      }
    },
    {
      "cell_type": "code",
      "source": [
        "games[\"DIFF\"] = games[\"PTS_home\"] - games[\"PTS_away\"]"
      ],
      "metadata": {
        "id": "nghJ6uJ3C8fv"
      },
      "execution_count": null,
      "outputs": []
    },
    {
      "cell_type": "markdown",
      "source": [
        "# Distribución de la diferencia de puntos"
      ],
      "metadata": {
        "id": "-nGaXO34C-PP"
      }
    },
    {
      "cell_type": "code",
      "source": [
        "plt.figure(figsize=(12, 6))\n",
        "sns.histplot(games[\"DIFF\"], kde=True, color=\"green\")\n",
        "plt.title(\"Distribución de la diferencia de puntos (Local - Visitante)\", fontsize=16, fontweight='bold')\n",
        "plt.xlabel(\"Diferencia de Puntos\")\n",
        "plt.ylabel(\"Frecuencia\")\n",
        "plt.axvline(x=0, color='red', linestyle='--', label='Empate')\n",
        "plt.legend()\n",
        "plt.show()"
      ],
      "metadata": {
        "id": "353rj9f1C_df"
      },
      "execution_count": null,
      "outputs": []
    },
    {
      "cell_type": "markdown",
      "source": [
        "## Análisis por Equipos"
      ],
      "metadata": {
        "id": "d-oLkVxgDF4f"
      }
    },
    {
      "cell_type": "markdown",
      "source": [
        "# Puntos promedio como local por equipo\n"
      ],
      "metadata": {
        "id": "YAaeV1pODJRS"
      }
    },
    {
      "cell_type": "code",
      "source": [
        "home_points = games.groupby(\"HOME_TEAM_ID\")[\"PTS_home\"].agg(['mean', 'std', 'count']).sort_values(by='mean', ascending=False)\n",
        "print(\"Top 10 equipos con más puntos en casa:\")\n",
        "display(home_points.head(10))"
      ],
      "metadata": {
        "id": "rKrOfNTwDHwW"
      },
      "execution_count": null,
      "outputs": []
    },
    {
      "cell_type": "markdown",
      "source": [
        "# Puntos promedio como visitante por equipo"
      ],
      "metadata": {
        "id": "gl4F8vztDKy3"
      }
    },
    {
      "cell_type": "code",
      "source": [
        "away_points = games.groupby(\"VISITOR_TEAM_ID\")[\"PTS_away\"].agg(['mean', 'std', 'count']).sort_values(by='mean', ascending=False)\n",
        "print(\"Top 10 equipos con más puntos como visitante:\")\n",
        "display(away_points.head(10))"
      ],
      "metadata": {
        "id": "zkyfuYSBDMP_"
      },
      "execution_count": null,
      "outputs": []
    },
    {
      "cell_type": "markdown",
      "source": [
        "# Porcentaje de victorias en casa por equipo"
      ],
      "metadata": {
        "id": "sPpJywI6DNZ4"
      }
    },
    {
      "cell_type": "code",
      "source": [
        "home_wins = games.groupby(\"HOME_TEAM_ID\")[\"HOME_TEAM_WINS\"].mean().sort_values(ascending=False) * 100\n",
        "print(\"Top 10 equipos con mejor porcentaje de victorias en casa:\")\n",
        "display(home_wins.head(10).round(2))"
      ],
      "metadata": {
        "id": "GN8oH7tWDOk_"
      },
      "execution_count": null,
      "outputs": []
    },
    {
      "cell_type": "markdown",
      "source": [
        "## Análisis del Dataset 'games_details'"
      ],
      "metadata": {
        "id": "zfhMEuR_DP-H"
      }
    },
    {
      "cell_type": "markdown",
      "source": [
        "# Este dataset contiene estadísticas detalladas por jugador en cada partido."
      ],
      "metadata": {
        "id": "CmHH35t_DSUj"
      }
    },
    {
      "cell_type": "markdown",
      "source": [
        "# Configurar para mostrar todas las columnas"
      ],
      "metadata": {
        "id": "1SBPwc4ADVai"
      }
    },
    {
      "cell_type": "code",
      "source": [
        "pd.set_option('display.max_columns', None)\n",
        "\n",
        "print(\"Primeras 5 filas del dataset 'games_details':\")\n",
        "display(details.head())"
      ],
      "metadata": {
        "id": "uuMumEIuDXBo"
      },
      "execution_count": null,
      "outputs": []
    },
    {
      "cell_type": "markdown",
      "source": [
        "# Información del dataset"
      ],
      "metadata": {
        "id": "1_CS1bj4DYgR"
      }
    },
    {
      "cell_type": "code",
      "source": [
        "print(\"Información del dataset 'games_details':\")\n",
        "details.info()\n"
      ],
      "metadata": {
        "id": "pFDvU3P_DaBi"
      },
      "execution_count": null,
      "outputs": []
    },
    {
      "cell_type": "markdown",
      "source": [
        "# Estadísticas descriptivas"
      ],
      "metadata": {
        "id": "USbA_2nnDbQP"
      }
    },
    {
      "cell_type": "code",
      "source": [
        "print(\"Estadísticas descriptivas de 'games_details':\")\n",
        "display(details.describe().T)"
      ],
      "metadata": {
        "id": "y3HQBv2zDdNd"
      },
      "execution_count": null,
      "outputs": []
    },
    {
      "cell_type": "markdown",
      "source": [
        "# Número de valores únicos por columna"
      ],
      "metadata": {
        "id": "37gOqNUpDeiI"
      }
    },
    {
      "cell_type": "code",
      "source": [
        "print(\"Número de valores únicos por columna en 'games_details':\")\n",
        "display(details.nunique())"
      ],
      "metadata": {
        "id": "U5SnrA0hDgwj"
      },
      "execution_count": null,
      "outputs": []
    },
    {
      "cell_type": "markdown",
      "source": [
        "# Análisis de valores missing"
      ],
      "metadata": {
        "id": "leFjBg8uDiT3"
      }
    },
    {
      "cell_type": "code",
      "source": [
        "print(\"Porcentaje de valores missing en 'games_details' (top 10):\")\n",
        "missing_details = details.isna().mean().sort_values(ascending=False) * 100\n",
        "display(missing_details.head(10))"
      ],
      "metadata": {
        "id": "fe1EYTWcDjrX"
      },
      "execution_count": null,
      "outputs": []
    },
    {
      "cell_type": "markdown",
      "source": [
        "# Estadísticas de minutos jugados"
      ],
      "metadata": {
        "id": "banUgbNVDk-u"
      }
    },
    {
      "cell_type": "code",
      "source": [
        "print(\"Estadísticas de minutos jugados por jugador:\")\n",
        "display(details['MIN'].describe())"
      ],
      "metadata": {
        "id": "ofBQjUZnDmfR"
      },
      "execution_count": null,
      "outputs": []
    },
    {
      "cell_type": "markdown",
      "source": [
        "# Distribución de puntos por jugador"
      ],
      "metadata": {
        "id": "h4Ab1RJCDn3V"
      }
    },
    {
      "cell_type": "code",
      "source": [
        "plt.figure(figsize=(12, 6))\n",
        "sns.histplot(details['PTS'].dropna(), kde=True, bins=30)\n",
        "plt.title(\"Distribución de puntos por jugador por partido\", fontsize=16, fontweight='bold')\n",
        "plt.xlabel(\"Puntos\")\n",
        "plt.ylabel(\"Frecuencia\")\n",
        "plt.show()"
      ],
      "metadata": {
        "id": "-xq3gkgbDpcq"
      },
      "execution_count": null,
      "outputs": []
    },
    {
      "cell_type": "markdown",
      "source": [
        "## Análisis del Dataset 'teams'"
      ],
      "metadata": {
        "id": "y0BqRxBvDrXh"
      }
    },
    {
      "cell_type": "markdown",
      "source": [
        "# Este dataset contiene información sobre los equipos de la NBA."
      ],
      "metadata": {
        "id": "n4jIO6enDs-L"
      }
    },
    {
      "cell_type": "code",
      "source": [
        "print(\"Primeras 5 filas del dataset 'teams':\")\n",
        "display(teams.head())"
      ],
      "metadata": {
        "id": "BCpgodV-DxjA"
      },
      "execution_count": null,
      "outputs": []
    },
    {
      "cell_type": "markdown",
      "source": [
        "# Información del dataset"
      ],
      "metadata": {
        "id": "cyugvPXXDuhU"
      }
    },
    {
      "cell_type": "code",
      "source": [
        "print(\"Información del dataset 'teams':\")\n",
        "teams.info()"
      ],
      "metadata": {
        "id": "BKalt1lyDz1z"
      },
      "execution_count": null,
      "outputs": []
    },
    {
      "cell_type": "markdown",
      "source": [
        "# Estadísticas descriptivas"
      ],
      "metadata": {
        "id": "vANrCZO4D1QX"
      }
    },
    {
      "cell_type": "code",
      "source": [
        "print(\"Estadísticas descriptivas de 'teams':\")\n",
        "display(teams.describe().T)"
      ],
      "metadata": {
        "id": "CgeQ9WAuD2tc"
      },
      "execution_count": null,
      "outputs": []
    },
    {
      "cell_type": "markdown",
      "source": [
        "# Número de valores únicos por columna"
      ],
      "metadata": {
        "id": "IWLbd6r4D39t"
      }
    },
    {
      "cell_type": "code",
      "source": [
        "print(\"Número de valores únicos por columna en 'teams':\")\n",
        "display(teams.nunique())"
      ],
      "metadata": {
        "id": "Iy0RT0kRD5d4"
      },
      "execution_count": null,
      "outputs": []
    },
    {
      "cell_type": "markdown",
      "source": [
        "## Análisis de Correlaciones"
      ],
      "metadata": {
        "id": "531_LxSEEDKx"
      }
    },
    {
      "cell_type": "markdown",
      "source": [
        "# Seleccionar variables numéricas para correlación"
      ],
      "metadata": {
        "id": "pgB5l-6fEFXN"
      }
    },
    {
      "cell_type": "code",
      "source": [
        "numeric_cols = games.select_dtypes(include=[np.number]).columns\n",
        "correlation_matrix = games[numeric_cols].corr()"
      ],
      "metadata": {
        "id": "kkzfywDlEFjl"
      },
      "execution_count": null,
      "outputs": []
    },
    {
      "cell_type": "markdown",
      "source": [
        "# Mapa de calor de correlaciones"
      ],
      "metadata": {
        "id": "ShclZqL6EHLi"
      }
    },
    {
      "cell_type": "code",
      "source": [
        "plt.figure(figsize=(16, 12))\n",
        "sns.heatmap(correlation_matrix, annot=True, cmap='coolwarm', center=0, fmt='.2f')\n",
        "plt.title(\"Matriz de Correlación - Variables Numéricas\", fontsize=16, fontweight='bold')\n",
        "plt.tight_layout()\n",
        "plt.show()"
      ],
      "metadata": {
        "id": "QXzs1m0TEDvP"
      },
      "execution_count": null,
      "outputs": []
    },
    {
      "cell_type": "markdown",
      "source": [
        "# Correlaciones con HOME_TEAM_WINS"
      ],
      "metadata": {
        "id": "JniKEEvcEK6-"
      }
    },
    {
      "cell_type": "code",
      "source": [
        "print(\"Correlaciones con HOME_TEAM_WINS (ordenadas por valor absoluto):\")\n",
        "win_correlations = correlation_matrix['HOME_TEAM_WINS'].abs().sort_values(ascending=False)\n",
        "display(win_correlations.head(10))"
      ],
      "metadata": {
        "id": "dVHobfw9EMVV"
      },
      "execution_count": null,
      "outputs": []
    },
    {
      "cell_type": "markdown",
      "source": [
        "## Análisis de Outliers"
      ],
      "metadata": {
        "id": "rVNPe0YsENp2"
      }
    },
    {
      "cell_type": "markdown",
      "source": [
        "# Detección de outliers en puntos anotados"
      ],
      "metadata": {
        "id": "uul_5aW3EPB9"
      }
    },
    {
      "cell_type": "code",
      "source": [
        "plt.figure(figsize=(12, 6))\n",
        "sns.boxplot(data=games[['PTS_home', 'PTS_away']])\n",
        "plt.title(\"Distribución de Puntos - Detección de Outliers\", fontsize=16, fontweight='bold')\n",
        "plt.ylabel(\"Puntos\")\n",
        "plt.show()"
      ],
      "metadata": {
        "id": "eXFh3MKoEQ4-"
      },
      "execution_count": null,
      "outputs": []
    },
    {
      "cell_type": "markdown",
      "source": [
        "# Partidos con mayor diferencia de puntos"
      ],
      "metadata": {
        "id": "fLOcztzuESA6"
      }
    },
    {
      "cell_type": "code",
      "source": [
        "extreme_games = games.nlargest(10, 'DIFF')[['GAME_DATE_EST', 'HOME_TEAM_ID', 'VISITOR_TEAM_ID', 'PTS_home', 'PTS_away', 'DIFF']]\n",
        "print(\"Partidos con mayor diferencia de puntos a favor del local:\")\n",
        "display(extreme_games)"
      ],
      "metadata": {
        "id": "aa40fw9aETaG"
      },
      "execution_count": null,
      "outputs": []
    },
    {
      "cell_type": "markdown",
      "source": [
        "# Partidos con menor diferencia de puntos"
      ],
      "metadata": {
        "id": "sQL5LL9mEUah"
      }
    },
    {
      "cell_type": "code",
      "source": [
        "close_games = games.nsmallest(10, abs(games['DIFF']))[['GAME_DATE_EST', 'HOME_TEAM_ID', 'VISITOR_TEAM_ID', 'PTS_home', 'PTS_away', 'DIFF']]\n",
        "print(\"Partidos más ajustados (menor diferencia absoluta):\")\n",
        "display(close_games)"
      ],
      "metadata": {
        "id": "Uv12-Xc5EVzJ"
      },
      "execution_count": null,
      "outputs": []
    },
    {
      "cell_type": "markdown",
      "source": [
        "## Hallazgos Principales y Conclusiones"
      ],
      "metadata": {
        "id": "a81HoJyTEW2S"
      }
    },
    {
      "cell_type": "markdown",
      "source": [
        "# 1. **Distribución de Partidos**: La cantidad de partidos por temporada es consistente\n",
        "# 2. **Ventaja Local**: Existe una clara ventaja de jugar en casa (∼60% de victorias)\n",
        "# 3. **Distribución de Puntos**: Los equipos locales tienden a anotar más puntos\n",
        "# 4. **Calidad de Datos**: Los datasets principales tienen buena calidad con pocos valores missing\n",
        "# 5. **Correlaciones**: Variables como FG_PCT y REB muestran alta correlación con las victorias\n",
        "# 6. **Equipos Dominantes**: Se identifican equipos consistentemente buenos tanto locales como visitantes"
      ],
      "metadata": {
        "id": "DvGMKCL_Ebrl"
      }
    }
  ]
}