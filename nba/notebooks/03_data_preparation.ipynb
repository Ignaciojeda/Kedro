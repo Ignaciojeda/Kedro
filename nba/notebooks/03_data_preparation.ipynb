{
 "cells": [
  {
   "cell_type": "code",
   "execution_count": null,
   "metadata": {
    "id": "u_LwnK7vfpLo"
   },
   "outputs": [],
   "source": [
    "# --- Setup inicial ---\n",
    "%reload_kedro\n",
    "\n",
    "games = catalog.load(\"games\")\n",
    "teams = catalog.load(\"teams\")\n"
   ]
  },
  {
   "cell_type": "markdown",
   "metadata": {
    "id": "QzfZXCaIfrZm"
   },
   "source": [
    "## 1. Selección de Datos"
   ]
  },
  {
   "cell_type": "markdown",
   "metadata": {
    "id": "nKaLIYbeftM7"
   },
   "source": [
    "Nos enfocaremos en:\n",
    "- `TEAM_ID` (equipo)\n",
    "- `HOME_TEAM_ID`, `VISITOR_TEAM_ID`\n",
    "- `PTS_home`, `PTS_away`\n",
    "- Resultado del partido (ganó o perdió)\n",
    "\n",
    "## 2. Limpieza de Datos\n",
    "Eliminaremos filas con valores nulos en puntos."
   ]
  },
  {
   "cell_type": "code",
   "execution_count": null,
   "metadata": {
    "id": "UBcKvkJTfv9O"
   },
   "outputs": [],
   "source": [
    "games_clean = games.dropna(subset=[\"PTS_home\",\"PTS_away\"])\n"
   ]
  },
  {
   "cell_type": "markdown",
   "metadata": {
    "id": "0xmqf3hIfufL"
   },
   "source": [
    "## 3. Generación de Variables (Feature Engineering)\n",
    "\n",
    "Creamos variables de interés:\n",
    "- Diferencia de puntos (`POINT_DIFF`)\n",
    "- Indicador de victoria (`HOME_WIN`, `AWAY_WIN`)\n"
   ]
  },
  {
   "cell_type": "code",
   "execution_count": null,
   "metadata": {
    "id": "vT93GKQIfyDL"
   },
   "outputs": [],
   "source": [
    "games_clean[\"POINT_DIFF\"] = games_clean[\"PTS_home\"] - games_clean[\"PTS_away\"]\n",
    "games_clean[\"HOME_WIN\"] = (games_clean[\"POINT_DIFF\"] > 0).astype(int)\n",
    "games_clean[\"AWAY_WIN\"] = (games_clean[\"POINT_DIFF\"] < 0).astype(int)\n"
   ]
  },
  {
   "cell_type": "markdown",
   "metadata": {
    "id": "uCgz0Mwlf1ll"
   },
   "source": [
    "## 4. Métricas Agregadas por Equipo\n",
    "\n",
    "Win rate de local y visitante:\n"
   ]
  },
  {
   "cell_type": "code",
   "execution_count": null,
   "metadata": {
    "id": "AZ72d7odf0GS"
   },
   "outputs": [],
   "source": [
    "home_stats = games_clean.groupby(\"HOME_TEAM_ID\").agg(\n",
    "    games_home=(\"GAME_ID\",\"count\"),\n",
    "    wins_home=(\"HOME_WIN\",\"sum\"),\n",
    "    avg_points_home=(\"PTS_home\",\"mean\"),\n",
    "    avg_points_against_home=(\"PTS_away\",\"mean\")\n",
    ")\n",
    "home_stats[\"win_rate_home\"] = home_stats[\"wins_home\"]/home_stats[\"games_home\"]\n",
    "\n",
    "away_stats = games_clean.groupby(\"VISITOR_TEAM_ID\").agg(\n",
    "    games_away=(\"GAME_ID\",\"count\"),\n",
    "    wins_away=(\"AWAY_WIN\",\"sum\"),\n",
    "    avg_points_away=(\"PTS_away\",\"mean\"),\n",
    "    avg_points_against_away=(\"PTS_home\",\"mean\")\n",
    ")\n",
    "away_stats[\"win_rate_away\"] = away_stats[\"wins_away\"]/away_stats[\"games_away\"]\n",
    "\n",
    "display(home_stats.sort_values(\"win_rate_home\",ascending=False).head())\n",
    "display(away_stats.sort_values(\"win_rate_away\").head())\n"
   ]
  },
  {
   "cell_type": "markdown",
   "metadata": {
    "id": "mcQxEVsmfzkN"
   },
   "source": [
    "> **Resultado obtenido:**  \n",
    "> Un ranking de equipos que nos dice:\n",
    "> - Mejores equipos en casa (win_rate_home más alto)\n",
    "> - Peores equipos de visita (win_rate_away más bajo)\n",
    "> - Equipos que anotan y reciben más puntos\n"
   ]
  }
 ],
 "metadata": {
  "colab": {
   "authorship_tag": "ABX9TyMkNkoOxLWyZthjWxZVCEQH",
   "provenance": []
  },
  "kernelspec": {
   "display_name": "Python 3 (ipykernel)",
   "language": "python",
   "name": "python3"
  },
  "language_info": {
   "codemirror_mode": {
    "name": "ipython",
    "version": 3
   },
   "file_extension": ".py",
   "mimetype": "text/x-python",
   "name": "python",
   "nbconvert_exporter": "python",
   "pygments_lexer": "ipython3",
   "version": "3.11.9"
  }
 },
 "nbformat": 4,
 "nbformat_minor": 4
}
